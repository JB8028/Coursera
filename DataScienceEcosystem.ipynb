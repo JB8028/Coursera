{
 "cells": [
  {
   "cell_type": "markdown",
   "id": "cafb1b0e-8aa0-41e0-9564-06276e546dcc",
   "metadata": {},
   "source": [
    "# Data Science Tools and Ecosystem"
   ]
  },
  {
   "cell_type": "markdown",
   "id": "64f2aec8-ebf6-4dca-bb3e-cc7e8c1cd3d4",
   "metadata": {},
   "source": [
    "## In this notebook, Data Science Tools and Ecosystem are summarized."
   ]
  },
  {
   "cell_type": "markdown",
   "id": "d962d962-ff75-4d61-9ce3-8845ddca80aa",
   "metadata": {},
   "source": [
    "## Objectives:\n",
    "* List of popular languages\n",
    "* Tools for Data Science\n",
    "* Most popular libraries"
   ]
  },
  {
   "cell_type": "markdown",
   "id": "24c8cbfd-27d9-4473-878c-75d569ea5115",
   "metadata": {},
   "source": [
    "Some of the popular languages that Data Scientists use are:\n",
    "1. Python\n",
    "2. R\n",
    "3. SQL"
   ]
  },
  {
   "cell_type": "markdown",
   "id": "41d7f33d-ced2-4c1b-a73f-75f515137957",
   "metadata": {},
   "source": [
    "Some of the commonly used libraries used by Data Scientists include:\n",
    "- Pandas\n",
    "- Matplolib\n",
    "- Pyplot"
   ]
  },
  {
   "cell_type": "markdown",
   "id": "f65e4ae2-0565-43ec-b228-040acb65272e",
   "metadata": {},
   "source": [
    "| Data science Tools | \n",
    "| -------------| \n",
    "|My SQL | \n",
    "| ML Flow | \n",
    "| Tableau | "
   ]
  },
  {
   "cell_type": "markdown",
   "id": "5584ede4-239c-4864-9624-62a0c94db628",
   "metadata": {},
   "source": [
    "### Below are a few examples of evaluating arithmetic expressions in Python"
   ]
  },
  {
   "cell_type": "code",
   "execution_count": 10,
   "id": "09cf9905-2055-4387-9dcc-cebd26778cc9",
   "metadata": {},
   "outputs": [
    {
     "data": {
      "text/plain": [
       "7"
      ]
     },
     "execution_count": 10,
     "metadata": {},
     "output_type": "execute_result"
    }
   ],
   "source": [
    "2+5"
   ]
  },
  {
   "cell_type": "code",
   "execution_count": 14,
   "id": "913c2ac9-da0e-4753-8c95-ace35791e66e",
   "metadata": {},
   "outputs": [
    {
     "data": {
      "text/plain": [
       "0.5555555555555556"
      ]
     },
     "execution_count": 14,
     "metadata": {},
     "output_type": "execute_result"
    }
   ],
   "source": [
    "5/9"
   ]
  },
  {
   "cell_type": "code",
   "execution_count": 16,
   "id": "f45cbdc1-f7cb-4cf1-a0af-1ad0070aa8a3",
   "metadata": {},
   "outputs": [
    {
     "data": {
      "text/plain": [
       "17"
      ]
     },
     "execution_count": 16,
     "metadata": {},
     "output_type": "execute_result"
    }
   ],
   "source": [
    "# This a simple arithmetic expression to mutiply then add integers.\n",
    "(3*4)+5"
   ]
  },
  {
   "cell_type": "code",
   "execution_count": 18,
   "id": "54e527ca-7885-464f-a790-7909708e9c9d",
   "metadata": {},
   "outputs": [
    {
     "data": {
      "text/plain": [
       "3.3333333333333335"
      ]
     },
     "execution_count": 18,
     "metadata": {},
     "output_type": "execute_result"
    }
   ],
   "source": [
    "# This will convert 200 minutes to hours by diving by 60.\n",
    "200/60"
   ]
  },
  {
   "cell_type": "markdown",
   "id": "937e30e9-425a-472a-81b5-b73745f9350f",
   "metadata": {},
   "source": [
    "## Author\n",
    "#### Joanna"
   ]
  },
  {
   "cell_type": "code",
   "execution_count": null,
   "id": "b3aa3a4e-f671-4b0b-a179-b238b2d09d14",
   "metadata": {},
   "outputs": [],
   "source": []
  }
 ],
 "metadata": {
  "kernelspec": {
   "display_name": "Python 3 (ipykernel)",
   "language": "python",
   "name": "python3"
  },
  "language_info": {
   "codemirror_mode": {
    "name": "ipython",
    "version": 3
   },
   "file_extension": ".py",
   "mimetype": "text/x-python",
   "name": "python",
   "nbconvert_exporter": "python",
   "pygments_lexer": "ipython3",
   "version": "3.12.4"
  }
 },
 "nbformat": 4,
 "nbformat_minor": 5
}
